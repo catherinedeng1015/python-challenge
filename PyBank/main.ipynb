{
 "cells": [
  {
   "cell_type": "code",
   "execution_count": null,
   "metadata": {},
   "outputs": [],
   "source": [
    "# -*- coding: UTF-8 -*-\n",
    "\"\"\"PyBank Homework Starter File.\"\"\"\n",
    "\n",
    "# Dependencies\n",
    "import csv\n",
    "import os\n",
    "\n",
    "# Files to load and output (update with correct file paths)\n",
    "file_to_load = os.path.join(\"Resources\", \"budget_data.csv\")  # Input file path\n",
    "file_to_output = os.path.join(\"analysis\", \"budget_analysis.txt\")  # Output file path\n",
    "\n",
    "# Define variables to track the financial data\n",
    "total_months = 0\n",
    "total_net = 0\n",
    "# Add more variables to track other necessary financial data"
   ]
  },
  {
   "cell_type": "code",
   "execution_count": null,
   "metadata": {},
   "outputs": [],
   "source": [
    "# Open and read the csv\n",
    "with open(file_to_load) as financial_data:\n",
    "    reader = csv.reader(financial_data)\n",
    "\n",
    "    # Skip the header row\n",
    "    header = next(reader)\n",
    "\n",
    "    # Extract first row to avoid appending to net_change_list\n",
    "    first_row = next(reader)\n",
    "    total_months += 1\n",
    "    total_net += int(first_row[1])\n",
    "    previous_net = int(first_row[1])"
   ]
  },
  {
   "cell_type": "code",
   "execution_count": null,
   "metadata": {},
   "outputs": [],
   "source": [
    "# Track the total and net change\n",
    "\n",
    "\n",
    "    # Process each row of data\n",
    "    for row in reader:\n",
    "\n",
    "        # Track the total\n",
    "\n",
    "\n",
    "        # Track the net change\n",
    "\n",
    "\n",
    "        # Calculate the greatest increase in profits (month and amount)\n",
    "\n",
    "\n",
    "        # Calculate the greatest decrease in losses (month and amount)\n",
    "\n",
    "\n",
    "\n",
    "# Calculate the average net change across the months\n",
    "\n",
    "\n",
    "# Generate the output summary\n",
    "\n",
    "\n",
    "# Print the output\n",
    "\n",
    "\n",
    "# Write the results to a text file\n",
    "with open(file_to_output, \"w\") as txt_file:\n",
    "    txt_file.write(output)"
   ]
  }
 ],
 "metadata": {
  "kernelspec": {
   "display_name": "PythonData",
   "language": "python",
   "name": "python3"
  },
  "language_info": {
   "codemirror_mode": {
    "name": "ipython",
    "version": 3
   },
   "file_extension": ".py",
   "mimetype": "text/x-python",
   "name": "python",
   "nbconvert_exporter": "python",
   "pygments_lexer": "ipython3",
   "version": "3.10.16"
  }
 },
 "nbformat": 4,
 "nbformat_minor": 2
}
